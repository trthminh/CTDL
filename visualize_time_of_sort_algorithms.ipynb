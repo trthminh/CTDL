{
  "nbformat": 4,
  "nbformat_minor": 0,
  "metadata": {
    "colab": {
      "name": "visualize_time_of_sort_algorithms.ipynb",
      "provenance": [],
      "collapsed_sections": []
    },
    "kernelspec": {
      "name": "python3",
      "display_name": "Python 3"
    },
    "language_info": {
      "name": "python"
    }
  },
  "cells": [
    {
      "cell_type": "code",
      "source": [
        "heapsort = []\n",
        "mergesort = []\n",
        "quicksort = []\n",
        "sort_c = []"
      ],
      "metadata": {
        "id": "CNJ2Z7OFDCOg"
      },
      "execution_count": 1,
      "outputs": []
    },
    {
      "cell_type": "code",
      "source": [
        "with open(\"result.out\", \"r\") as f:\n",
        "  file = f.readlines()\n",
        "  for data in file:\n",
        "    if data[0] != '0' and data[0] != ' ':\n",
        "      heapsort.append(float(data[12:17]))\n",
        "      mergesort.append(float(data[22:27]))\n",
        "      quicksort.append(float(data[32:37]))\n",
        "      sort_c.append(float(data[42:47]))"
      ],
      "metadata": {
        "id": "FZsSSt48E-pw"
      },
      "execution_count": 2,
      "outputs": []
    },
    {
      "cell_type": "code",
      "source": [
        "heapsort"
      ],
      "metadata": {
        "colab": {
          "base_uri": "https://localhost:8080/"
        },
        "id": "DcbXIZYfHRUF",
        "outputId": "9063c9af-7fd2-4670-eaa7-dab7d59a9f8c"
      },
      "execution_count": 3,
      "outputs": [
        {
          "output_type": "execute_result",
          "data": {
            "text/plain": [
              "[0.048, 0.047, 0.04, 0.042, 0.032, 0.032, 0.047, 0.061, 0.015, 0.032]"
            ]
          },
          "metadata": {},
          "execution_count": 3
        }
      ]
    },
    {
      "cell_type": "code",
      "source": [
        "import numpy as np\n",
        "import matplotlib.pyplot as plt\n",
        "plt.style.use('ggplot')\n",
        "n = 10\n",
        "fig, ax = plt.subplots()\n",
        "index = np.arange(n)\n",
        "bar_width = 0.2\n",
        "opacity = 0.9\n",
        "ax.bar(index, heapsort, bar_width, alpha=opacity, color='r',\n",
        "                label='HeapSort')\n",
        "ax.bar(index+bar_width, mergesort, bar_width, alpha=opacity, color='b',\n",
        "                label='MergeSort')\n",
        "ax.bar(index+2*bar_width, quicksort, bar_width, alpha=opacity,\n",
        "\tcolor='g', label='QuickSort')\n",
        "ax.bar(index+3*bar_width, sort_c, bar_width, alpha=opacity,\n",
        "\tcolor='y', label='Sort_C++')\n",
        "ax.set_xlabel('id_Data')\n",
        "ax.set_ylabel('Times')\n",
        "ax.set_title('Time of Sort Algorithms')\n",
        "ax.set_xticks(index + bar_width)\n",
        "ax.set_xticklabels(('1', '2', '3', '4', '5', '6', '7', '8', '9', '10'))\n",
        "ax.legend(ncol=3)\n",
        "plt.show()"
      ],
      "metadata": {
        "colab": {
          "base_uri": "https://localhost:8080/",
          "height": 299
        },
        "id": "HBUOSQyiUyJN",
        "outputId": "253d476d-9370-4f4a-8856-208e6eb4987e"
      },
      "execution_count": 4,
      "outputs": [
        {
          "output_type": "display_data",
          "data": {
            "image/png": "[encoded data removed]",
            "text/plain": [
              "<Figure size 432x288 with 1 Axes>"
            ]
          },
          "metadata": {}
        }
      ]
    }
  ]
}