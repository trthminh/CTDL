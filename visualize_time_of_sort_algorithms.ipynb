{
  "nbformat": 4,
  "nbformat_minor": 0,
  "metadata": {
    "colab": {
      "name": "visualize_time_of_sort_algorithms.ipynb",
      "provenance": [],
      "collapsed_sections": []
    },
    "kernelspec": {
      "name": "python3",
      "display_name": "Python 3"
    },
    "language_info": {
      "name": "python"
    }
  },
  "cells": [
    {
      "cell_type": "code",
      "source": [
        "heapsort = []\n",
        "mergesort = []\n",
        "quicksort = []\n",
        "sort_c = []"
      ],
      "metadata": {
        "id": "CNJ2Z7OFDCOg"
      },
      "execution_count": null,
      "outputs": []
    },
    {
      "cell_type": "code",
      "source": [
        "with open(\"result.out\", \"r\") as f:\n",
        "  file = f.readlines()\n",
        "  for data in file:\n",
        "    if data[0] != '0' and data[0] != ' ':\n",
        "      heapsort.append(float(data[12:17]))\n",
        "      mergesort.append(float(data[22:27]))\n",
        "      quicksort.append(float(data[32:37]))\n",
        "      sort_c.append(float(data[42:47]))"
      ],
      "metadata": {
        "id": "FZsSSt48E-pw"
      },
      "execution_count": null,
      "outputs": []
    },
    {
      "cell_type": "code",
      "source": [
        "import numpy as np\n",
        "heapsort = np.multiply(heapsort, 1000)\n",
        "mergesort = np.multiply(mergesort, 1000)\n",
        "quicksort = np.multiply(quicksort, 1000)\n",
        "sort_c = np.multiply(sort_c, 1000)"
      ],
      "metadata": {
        "id": "NbuXzJt0nqby"
      },
      "execution_count": null,
      "outputs": []
    },
    {
      "cell_type": "code",
      "source": [
        "heapsort, mergesort, quicksort, sort_c"
      ],
      "metadata": {
        "colab": {
          "base_uri": "https://localhost:8080/"
        },
        "id": "WBWsMGyGoULL",
        "outputId": "06999aaa-d1c0-4004-f464-917587fa0c2d"
      },
      "execution_count": null,
      "outputs": [
        {
          "output_type": "execute_result",
          "data": {
            "text/plain": [
              "(array([48., 47., 40., 42., 32., 32., 47., 61., 15., 32.]),\n",
              " array([1785., 2220., 2441., 2059., 1641., 1618., 1793., 1727., 1811.,\n",
              "        1718.]),\n",
              " array([193., 164., 239., 172., 131., 165., 183., 170., 128., 195.]),\n",
              " array([448., 375., 410., 303., 269., 263., 331., 362., 298., 346.]))"
            ]
          },
          "metadata": {},
          "execution_count": 28
        }
      ]
    },
    {
      "cell_type": "code",
      "source": [
        "mean_heap = np.mean(heapsort)\n",
        "mean_merge = np.mean(mergesort)\n",
        "mean_quick = np.mean(quicksort)\n",
        "mean_sort_c = np.mean(sort_c)"
      ],
      "metadata": {
        "id": "ZgeGJE8Bov0p"
      },
      "execution_count": null,
      "outputs": []
    },
    {
      "cell_type": "code",
      "source": [
        "mean_heap, mean_merge, mean_quick, mean_sort_c"
      ],
      "metadata": {
        "colab": {
          "base_uri": "https://localhost:8080/"
        },
        "id": "K-OpvrXTpI6v",
        "outputId": "a25fd1d1-de97-413f-c54a-973a426dbb4b"
      },
      "execution_count": null,
      "outputs": [
        {
          "output_type": "execute_result",
          "data": {
            "text/plain": [
              "(39.6, 1881.3, 174.0, 340.5)"
            ]
          },
          "metadata": {},
          "execution_count": 32
        }
      ]
    },
    {
      "cell_type": "code",
      "source": [
        "import numpy as np\n",
        "import matplotlib.pyplot as plt\n",
        "plt.style.use('ggplot')\n",
        "n = 10\n",
        "fig, ax = plt.subplots()\n",
        "index = np.arange(n)\n",
        "bar_width = 0.2\n",
        "opacity = 0.9\n",
        "ax.bar(index, heapsort, bar_width, alpha=opacity, color='r',\n",
        "                label='HeapSort')\n",
        "ax.bar(index+bar_width, mergesort, bar_width, alpha=opacity, color='b',\n",
        "                label='MergeSort')\n",
        "ax.bar(index+2*bar_width, quicksort, bar_width, alpha=opacity,\n",
        "\tcolor='g', label='QuickSort')\n",
        "ax.bar(index+3*bar_width, sort_c, bar_width, alpha=opacity,\n",
        "\tcolor='y', label='Sort_C++')\n",
        "ax.set_xlabel('id_Data')\n",
        "ax.set_ylabel('Time(ms)')\n",
        "ax.set_title('Time of Sort Algorithms')\n",
        "ax.set_xticks(index + bar_width)\n",
        "ax.set_xticklabels(('1', '2', '3', '4', '5', '6', '7', '8', '9', '10'))\n",
        "ax.legend(ncol=4)\n",
        "plt.show()"
      ],
      "metadata": {
        "colab": {
          "base_uri": "https://localhost:8080/",
          "height": 299
        },
        "id": "HBUOSQyiUyJN",
        "outputId": "840f4163-1f3b-4e7b-ac79-104d6efa8547"
      },
      "execution_count": null,
      "outputs": [
        {
          "output_type": "display_data",
          "data": {
            "image/png": "[encoded data removed]",
            "text/plain": [
              "<Figure size 432x288 with 1 Axes>"
            ]
          },
          "metadata": {}
        }
      ]
    }
  ]
}