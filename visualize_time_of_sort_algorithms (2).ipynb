{
  "nbformat": 4,
  "nbformat_minor": 0,
  "metadata": {
    "colab": {
      "name": "visualize_time_of_sort_algorithms.ipynb",
      "provenance": [],
      "collapsed_sections": []
    },
    "kernelspec": {
      "name": "python3",
      "display_name": "Python 3"
    },
    "language_info": {
      "name": "python"
    }
  },
  "cells": [
    {
      "cell_type": "code",
      "source": [
        "heapsort = []\n",
        "mergesort = []\n",
        "quicksort = []\n",
        "sort_c = []"
      ],
      "metadata": {
        "id": "CNJ2Z7OFDCOg"
      },
      "execution_count": 1,
      "outputs": []
    },
    {
      "cell_type": "code",
      "source": [
        "with open(\"result.out\", \"r\") as f:\n",
        "  file = f.readlines()\n",
        "  for data in file:\n",
        "    if data[0] != '0' and data[0] != ' ':\n",
        "      heapsort.append(float(data[12:17]))\n",
        "      mergesort.append(float(data[22:27]))\n",
        "      quicksort.append(float(data[32:37]))\n",
        "      sort_c.append(float(data[42:47]))"
      ],
      "metadata": {
        "id": "FZsSSt48E-pw"
      },
      "execution_count": 2,
      "outputs": []
    },
    {
      "cell_type": "code",
      "source": [
        "import numpy as np\n",
        "heapsort = np.multiply(heapsort, 1000)\n",
        "mergesort = np.multiply(mergesort, 1000)\n",
        "quicksort = np.multiply(quicksort, 1000)\n",
        "sort_c = np.multiply(sort_c, 1000)"
      ],
      "metadata": {
        "id": "NbuXzJt0nqby"
      },
      "execution_count": 3,
      "outputs": []
    },
    {
      "cell_type": "code",
      "source": [
        "heapsort, mergesort, quicksort, sort_c"
      ],
      "metadata": {
        "colab": {
          "base_uri": "https://localhost:8080/"
        },
        "id": "WBWsMGyGoULL",
        "outputId": "ed8cbe3e-b6f4-4021-9498-6d56e785e20d"
      },
      "execution_count": 4,
      "outputs": [
        {
          "output_type": "execute_result",
          "data": {
            "text/plain": [
              "(array([406., 397., 541., 560., 496., 476., 547., 508., 570., 742.]),\n",
              " array([1211., 1183., 1179., 1179., 1153., 1154., 1135., 1167., 1350.,\n",
              "        1475.]),\n",
              " array([49., 48., 44., 47., 46., 47., 47., 52., 58., 60.]),\n",
              " array([186., 179., 161., 177., 173., 183., 172., 183., 207., 248.]))"
            ]
          },
          "metadata": {},
          "execution_count": 4
        }
      ]
    },
    {
      "cell_type": "code",
      "source": [
        "from pandas import DataFrame\n",
        "data = {'HeapSort': heapsort,\n",
        "        'QuickSort': quicksort,\n",
        "        'MergeSort': mergesort,\n",
        "        'Sort_C++': sort_c,\n",
        "    }\n",
        "df = DataFrame(data, columns= ['HeapSort', 'QuickSort', 'MergeSort', 'Sort_C++'])\n",
        "export_csv = df.to_csv (r'result.csv', index = None, header=True)\n"
      ],
      "metadata": {
        "id": "troAi8bvjcdV"
      },
      "execution_count": 5,
      "outputs": []
    },
    {
      "cell_type": "code",
      "source": [
        "mean_heap = np.mean(heapsort)\n",
        "mean_merge = np.mean(mergesort)\n",
        "mean_quick = np.mean(quicksort)\n",
        "mean_sort_c = np.mean(sort_c)"
      ],
      "metadata": {
        "id": "ZgeGJE8Bov0p"
      },
      "execution_count": 6,
      "outputs": []
    },
    {
      "cell_type": "code",
      "source": [
        "mean_heap, mean_merge, mean_quick, mean_sort_c"
      ],
      "metadata": {
        "colab": {
          "base_uri": "https://localhost:8080/"
        },
        "id": "K-OpvrXTpI6v",
        "outputId": "5d33eb98-bb13-4996-8745-62a749a5ea37"
      },
      "execution_count": 7,
      "outputs": [
        {
          "output_type": "execute_result",
          "data": {
            "text/plain": [
              "(524.3, 1218.6, 49.8, 186.9)"
            ]
          },
          "metadata": {},
          "execution_count": 7
        }
      ]
    },
    {
      "cell_type": "code",
      "source": [
        "import numpy as np\n",
        "import matplotlib.pyplot as plt\n",
        "plt.style.use('ggplot')\n",
        "n = 10\n",
        "fig, ax = plt.subplots()\n",
        "index = np.arange(n)\n",
        "bar_width = 0.2\n",
        "opacity = 0.9\n",
        "ax.bar(index, heapsort, bar_width, alpha=opacity, color='r',\n",
        "                label='HeapSort')\n",
        "ax.bar(index+bar_width, mergesort, bar_width, alpha=opacity, color='b',\n",
        "                label='MergeSort')\n",
        "ax.bar(index+2*bar_width, quicksort, bar_width, alpha=opacity,\n",
        "\tcolor='g', label='QuickSort')\n",
        "ax.bar(index+3*bar_width, sort_c, bar_width, alpha=opacity,\n",
        "\tcolor='y', label='Sort_C++')\n",
        "ax.set_xlabel('id_Data')\n",
        "ax.set_ylabel('Time(ms)')\n",
        "ax.set_title('Time of Sort Algorithms')\n",
        "ax.set_xticks(index + bar_width)\n",
        "ax.set_xticklabels(('1', '2', '3', '4', '5', '6', '7', '8', '9', '10'))\n",
        "ax.legend(ncol=4)\n",
        "plt.show()"
      ],
      "metadata": {
        "colab": {
          "base_uri": "https://localhost:8080/",
          "height": 299
        },
        "id": "HBUOSQyiUyJN",
        "outputId": "cc4a4515-f1d6-4c74-9402-a43ce69a445a"
      },
      "execution_count": 8,
      "outputs": [
        {
          "output_type": "display_data",
          "data": {
            "text/plain": [
              "<Figure size 432x288 with 1 Axes>"
            ],
            "image/png": "[encoded data removed]"
          },
          "metadata": {}
        }
      ]
    }
  ]
}